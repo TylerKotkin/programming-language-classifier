{
 "cells": [
  {
   "cell_type": "code",
   "execution_count": 1,
   "metadata": {
    "collapsed": true
   },
   "outputs": [],
   "source": [
    "import csv\n",
    "import re\n",
    "import pandas as pd\n",
    "import numpy as np\n",
    "import random\n",
    "import glob\n",
    "\n",
    "from collections import Counter, defaultdict, namedtuple\n",
    "from sklearn.pipeline import make_pipeline, make_union\n",
    "from sklearn.base import TransformerMixin\n",
    "from sklearn.tree import DecisionTreeClassifier\n",
    "from sklearn.feature_extraction.text import CountVectorizer\n",
    "from sklearn.feature_extraction import DictVectorizer\n",
    "from sklearn.naive_bayes import MultinomialNB\n",
    "from sklearn.metrics import classification_report, confusion_matrix\n",
    "\n",
    "from programming_language_classifier import *"
   ]
  },
  {
   "cell_type": "code",
   "execution_count": 2,
   "metadata": {
    "collapsed": true
   },
   "outputs": [],
   "source": [
    "vectorizer = CountVectorizer()"
   ]
  },
  {
   "cell_type": "code",
   "execution_count": 3,
   "metadata": {
    "collapsed": true
   },
   "outputs": [],
   "source": [
    "def read_code(directory):\n",
    "    files = glob.glob('data/{}/*.*'.format(directory))\n",
    "    sample = []\n",
    "    for file in files:\n",
    "        with open(file) as f:\n",
    "            sample.append(f.read())\n",
    "    return sample"
   ]
  },
  {
   "cell_type": "code",
   "execution_count": 4,
   "metadata": {
    "collapsed": false
   },
   "outputs": [
    {
     "data": {
      "text/plain": [
       "['data/C/binarytrees.gcc',\n",
       " 'data/C/binarytrees.gcc-2.gcc',\n",
       " 'data/C/binarytrees.gcc-3.gcc',\n",
       " 'data/C/binarytrees.gcc-5.gcc',\n",
       " 'data/C/binarytrees.gcc-7.gcc']"
      ]
     },
     "execution_count": 4,
     "metadata": {},
     "output_type": "execute_result"
    }
   ],
   "source": [
    "glob.glob('data/C/*.*')[:5]"
   ]
  },
  {
   "cell_type": "code",
   "execution_count": 5,
   "metadata": {
    "collapsed": false
   },
   "outputs": [],
   "source": [
    "c_sample = read_code('C')\n",
    "csharp_sample = read_code('C#')\n",
    "common_lisp_sample = read_code('Common_Lisp')\n",
    "clojure_sample = read_code('Clojure')\n",
    "haskell_sample = read_code('Haskell')\n",
    "java_sample = read_code('Java')\n",
    "javascript_sample = read_code('JavaScript')\n",
    "# ocaml_sample = read_code('OCaml')\n",
    "perl_sample = read_code('Perl')\n",
    "php_sample = read_code('PHP')\n",
    "python_sample = read_code('Python')\n",
    "ruby_sample = read_code('Ruby')\n",
    "scala_sample = read_code('Scala')\n",
    "scheme_sample = read_code('Scheme')"
   ]
  },
  {
   "cell_type": "code",
   "execution_count": 6,
   "metadata": {
    "collapsed": false
   },
   "outputs": [],
   "source": [
    "X_train = (c_sample + csharp_sample + common_lisp_sample + clojure_sample \\\n",
    "           + haskell_sample + java_sample + javascript_sample + perl_sample + php_sample \\\n",
    "           + python_sample + ruby_sample + scala_sample + scheme_sample)"
   ]
  },
  {
   "cell_type": "code",
   "execution_count": 7,
   "metadata": {
    "collapsed": true
   },
   "outputs": [],
   "source": [
    "y_train = ['c'] * len(c_sample) + ['csharp'] * len(csharp_sample) + ['common_lisp'] \\\n",
    "        * len(common_lisp_sample) + ['clojure'] * len(clojure_sample) + ['haskell'] \\\n",
    "        * len(haskell_sample) + ['java'] * len(java_sample) + ['javascript'] * \\\n",
    "        len(javascript_sample) + ['perl'] * len(perl_sample) + ['php'] * \\\n",
    "        len(php_sample) + ['python'] * len(python_sample) + ['ruby'] * len(ruby_sample) + \\\n",
    "        ['scala'] * len(scala_sample) + ['scheme'] * len(scheme_sample)"
   ]
  },
  {
   "cell_type": "code",
   "execution_count": 8,
   "metadata": {
    "collapsed": true
   },
   "outputs": [],
   "source": [
    "with open('test.csv') as f:\n",
    "        y_data = f.read()"
   ]
  },
  {
   "cell_type": "code",
   "execution_count": 9,
   "metadata": {
    "collapsed": true
   },
   "outputs": [],
   "source": [
    "y_data = y_data.split('\\n')"
   ]
  },
  {
   "cell_type": "code",
   "execution_count": 10,
   "metadata": {
    "collapsed": true
   },
   "outputs": [],
   "source": [
    "y_test = []\n",
    "for x in y_data:\n",
    "    y_test.append(x.split(','))"
   ]
  },
  {
   "cell_type": "code",
   "execution_count": 11,
   "metadata": {
    "collapsed": true
   },
   "outputs": [],
   "source": [
    "y_test = list(pd.DataFrame(y_test).pop(1))[:-1]"
   ]
  },
  {
   "cell_type": "code",
   "execution_count": 12,
   "metadata": {
    "collapsed": true
   },
   "outputs": [],
   "source": [
    "def read_test():\n",
    "    X_data = []\n",
    "    for x in range(1, 33):\n",
    "         with open('test/{}'.format(x)) as f:\n",
    "            X_data.append((f.read(), x))\n",
    "    return X_data"
   ]
  },
  {
   "cell_type": "code",
   "execution_count": 13,
   "metadata": {
    "collapsed": true
   },
   "outputs": [],
   "source": [
    "X_test = [x[0] for x in read_test()]"
   ]
  },
  {
   "cell_type": "code",
   "execution_count": null,
   "metadata": {
    "collapsed": true
   },
   "outputs": [],
   "source": []
  },
  {
   "cell_type": "code",
   "execution_count": 14,
   "metadata": {
    "collapsed": true
   },
   "outputs": [],
   "source": [
    "class FunctionFeaturizer(TransformerMixin):\n",
    "    def __init__(self, *featurizers):\n",
    "        self.featurizers = featurizers\n",
    "        \n",
    "    def fit(self, X, y=None):\n",
    "        return self\n",
    "    \n",
    "    def transform(self, X):\n",
    "        feature_vectors = []\n",
    "        for x in X:\n",
    "            feature_vector = [f(x) for f in self.featurizers]\n",
    "            feature_vectors.append(feature_vector)\n",
    "        \n",
    "        return np.array(feature_vectors)"
   ]
  },
  {
   "cell_type": "code",
   "execution_count": 15,
   "metadata": {
    "collapsed": true
   },
   "outputs": [],
   "source": [
    "from textblob import TextBlob\n",
    "\n",
    "from collections import Counter\n",
    "\n",
    "\n",
    "class BagOfWordsFeaturizer(TransformerMixin):\n",
    "    def __init__(self, num_words=None):\n",
    "        self.num_words = num_words\n",
    "        \n",
    "    def fit(self, X, y=None):\n",
    "        words = []\n",
    "        for x in X:\n",
    "            x = TextBlob(x.lower())\n",
    "            words += [word.lemmatize() for word in x.words]\n",
    "        if self.num_words:\n",
    "            words = Counter(words)\n",
    "            self._vocab = [word for word, _ in words.most_common(self.num_words)]\n",
    "        else:\n",
    "            self._vocab = list(set(words))\n",
    "        return self\n",
    "    \n",
    "    def transform(self, X):\n",
    "        vectors = []\n",
    "        for x in X:\n",
    "            x = TextBlob(x.lower())\n",
    "            word_count = Counter(x.words)\n",
    "            vector = [0] * len(self._vocab)\n",
    "            for word, count in word_count.items():\n",
    "                try:\n",
    "                    idx = self._vocab.index(word)\n",
    "                    vector[idx] = count\n",
    "                except ValueError:\n",
    "                    pass\n",
    "            vectors.append(vector)\n",
    "        return vectors"
   ]
  },
  {
   "cell_type": "code",
   "execution_count": 16,
   "metadata": {
    "collapsed": false
   },
   "outputs": [],
   "source": []
  },
  {
   "cell_type": "code",
   "execution_count": 17,
   "metadata": {
    "collapsed": false
   },
   "outputs": [],
   "source": [
    "lang_featurizer = make_union(\n",
    "    BagOfWordsFeaturizer(100), \n",
    "    FunctionFeaturizer(percentage_of_parenthesis, percentage_of_punctuation,\n",
    "                       percentage_of_colon, percentage_of_def, percentage_of_at,\n",
    "                       percentage_of_star, percent_start_end_parenthesis, percentage_end_sc,\n",
    "                       word_function, word_nil, word_null, word_var, percentage_ds, word_elsif,\n",
    "                       word_tl, word_bool, hashes, word_final, percentage\n",
    "                      ))\n"
   ]
  },
  {
   "cell_type": "code",
   "execution_count": 18,
   "metadata": {
    "collapsed": false
   },
   "outputs": [
    {
     "data": {
      "text/plain": [
       "1.0"
      ]
     },
     "execution_count": 18,
     "metadata": {},
     "output_type": "execute_result"
    }
   ],
   "source": [
    "pipe = make_pipeline(lang_featurizer, DecisionTreeClassifier())\n",
    "pipe.fit(X_train, y_train)\n",
    "pipe.score(X_train, y_train)"
   ]
  },
  {
   "cell_type": "markdown",
   "metadata": {},
   "source": [
    "Testing"
   ]
  },
  {
   "cell_type": "code",
   "execution_count": 19,
   "metadata": {
    "collapsed": false
   },
   "outputs": [
    {
     "data": {
      "text/plain": [
       "0.53125"
      ]
     },
     "execution_count": 19,
     "metadata": {},
     "output_type": "execute_result"
    }
   ],
   "source": [
    "pipe.score(X_test, y_test)"
   ]
  },
  {
   "cell_type": "code",
   "execution_count": 20,
   "metadata": {
    "collapsed": false
   },
   "outputs": [
    {
     "name": "stdout",
     "output_type": "stream",
     "text": [
      "             precision    recall  f1-score   support\n",
      "\n",
      "          c       0.00      0.00      0.00         1\n",
      "    clojure       0.25      0.50      0.33         2\n",
      "     csharp       0.00      0.00      0.00         3\n",
      "    haskell       0.33      1.00      0.50         1\n",
      "       java       0.00      0.00      0.00         0\n",
      " javascript       0.75      0.75      0.75         4\n",
      "      ocaml       0.00      0.00      0.00         0\n",
      "        php       1.00      0.60      0.75         5\n",
      "     python       0.50      1.00      0.67         2\n",
      "       ruby       1.00      0.30      0.46        10\n",
      "      scala       1.00      1.00      1.00         2\n",
      "     scheme       0.67      1.00      0.80         2\n",
      "        tcl       0.00      0.00      0.00         0\n",
      "\n",
      "avg / total       0.72      0.53      0.55        32\n",
      "\n"
     ]
    },
    {
     "name": "stderr",
     "output_type": "stream",
     "text": [
      "/Users/TK/tiy/week5/.direnv/python-3.4.3/lib/python3.4/site-packages/sklearn/metrics/classification.py:958: UndefinedMetricWarning: Precision and F-score are ill-defined and being set to 0.0 in labels with no predicted samples.\n",
      "  'precision', 'predicted', average, warn_for)\n",
      "/Users/TK/tiy/week5/.direnv/python-3.4.3/lib/python3.4/site-packages/sklearn/metrics/classification.py:960: UndefinedMetricWarning: Recall and F-score are ill-defined and being set to 0.0 in labels with no true samples.\n",
      "  'recall', 'true', average, warn_for)\n"
     ]
    }
   ],
   "source": [
    "print(classification_report(pipe.predict(X_test), y_test))"
   ]
  },
  {
   "cell_type": "code",
   "execution_count": 21,
   "metadata": {
    "collapsed": false
   },
   "outputs": [],
   "source": [
    "message_python = ['''from pkgutil import iter_modules\n",
    "from subprocess import call\n",
    "\n",
    "dependencies = {\n",
    "    \"Crypto\": \"crypto\",\n",
    "    \"dpkt\": \"dpkt\",\n",
    "    \"IPy\": \"ipy\",\n",
    "    \"pcap\": \"pypcap\"\n",
    "}\n",
    "\n",
    "installed, missing_pkgs = [pkg[1] for pkg in iter_modules()], []\n",
    "\n",
    "for module, pkg in dependencies.items():\n",
    "    if module not in installed:\n",
    "        print(\"dshell requires {}\".format(module))\n",
    "        missing_pkgs.append(\"python-{}\".format(pkg))\n",
    "    else:\n",
    "        print(\"{} is installed\".format(module))\n",
    "\n",
    "if missing_pkgs:\n",
    "    cmd = [\"sudo\", \"apt-get\", \"install\"] + missing_pkgs\n",
    "\n",
    "    print(\" \".join(cmd))\n",
    "    call(cmd)\n",
    "\n",
    "call([\"make\", \"all\"])''']"
   ]
  },
  {
   "cell_type": "code",
   "execution_count": 22,
   "metadata": {
    "collapsed": false
   },
   "outputs": [
    {
     "data": {
      "text/plain": [
       "array(['python'], \n",
       "      dtype='<U11')"
      ]
     },
     "execution_count": 22,
     "metadata": {},
     "output_type": "execute_result"
    }
   ],
   "source": [
    "pipe.predict(message_python)"
   ]
  },
  {
   "cell_type": "code",
   "execution_count": 23,
   "metadata": {
    "collapsed": true
   },
   "outputs": [],
   "source": [
    "message_clojure = ['''(ns my-cli.core)\n",
    "\n",
    "(defn -main [& args]\n",
    "  (println \"My CLI received arguments:\" args))\n",
    "\n",
    "(defn add-main [& args]\n",
    "  (->> (map #(Integer/parseInt %) args)\n",
    "       (reduce + 0)\n",
    "       (println \"The sum is:\")))''']"
   ]
  },
  {
   "cell_type": "code",
   "execution_count": 24,
   "metadata": {
    "collapsed": false
   },
   "outputs": [
    {
     "data": {
      "text/plain": [
       "array(['clojure'], \n",
       "      dtype='<U11')"
      ]
     },
     "execution_count": 24,
     "metadata": {},
     "output_type": "execute_result"
    }
   ],
   "source": [
    "pipe.predict(message_clojure)"
   ]
  },
  {
   "cell_type": "code",
   "execution_count": 25,
   "metadata": {
    "collapsed": true
   },
   "outputs": [],
   "source": [
    "message_js = ['''function errorHandler(context) {\n",
    "  return function(error) {\n",
    "    trace('Failure in ' + context + ': ' + error.toString);\n",
    "  }\n",
    "}\n",
    "\n",
    "function successHandler(context) {\n",
    "  return function() {\n",
    "    trace('Success in ' + context);\n",
    "  }\n",
    "}\n",
    "\n",
    "function noAction() {\n",
    "}\n",
    "\n",
    "\n",
    "function VideoPipe(stream, handler) {\n",
    "  var servers = null;\n",
    "  var pc1 = new RTCPeerConnection(servers);\n",
    "  var pc2 = new RTCPeerConnection(servers);\n",
    "\n",
    "  pc1.addStream(stream);\n",
    "  pc1.onicecandidate = function(event) {\n",
    "    if (event.candidate) {\n",
    "      pc2.addIceCandidate(new RTCIceCandidate(event.candidate),\n",
    "                          noAction, errorHandler('AddIceCandidate'));\n",
    "    }\n",
    "  }\n",
    "  pc2.onicecandidate = function(event) {\n",
    "    if (event.candidate) {\n",
    "      pc1.addIceCandidate(new RTCIceCandidate(event.candidate),\n",
    "                          noAction, errorHandler('AddIceCandidate'));\n",
    "    }\n",
    "  }\n",
    "  pc2.onaddstream = function(e) {\n",
    "    handler(e.stream);\n",
    "  }\n",
    "  pc1.createOffer(function(desc) {\n",
    "    pc1.setLocalDescription(desc);\n",
    "    pc2.setRemoteDescription(desc);\n",
    "    pc2.createAnswer(function(desc2) {\n",
    "      pc2.setLocalDescription(desc2);\n",
    "      pc1.setRemoteDescription(desc2);\n",
    "    }, errorHandler('pc2.createAnswer'));\n",
    "  }, errorHandler('pc1.createOffer'));\n",
    "  this.pc1 = pc1;\n",
    "  this.pc2 = pc2;\n",
    "}\n",
    "\n",
    "VideoPipe.prototype.close = function() {\n",
    "  this.pc1.close();\n",
    "  this.pc2.close();\n",
    "}''']"
   ]
  },
  {
   "cell_type": "code",
   "execution_count": 26,
   "metadata": {
    "collapsed": false
   },
   "outputs": [
    {
     "data": {
      "text/plain": [
       "array(['javascript'], \n",
       "      dtype='<U11')"
      ]
     },
     "execution_count": 26,
     "metadata": {},
     "output_type": "execute_result"
    }
   ],
   "source": [
    "pipe.predict(message_js)"
   ]
  },
  {
   "cell_type": "code",
   "execution_count": 27,
   "metadata": {
    "collapsed": true
   },
   "outputs": [],
   "source": [
    "message_ruby = ['''module ActiveJob\n",
    "  module Core\n",
    "    extend ActiveSupport::Concern\n",
    "\n",
    "    included do\n",
    "      # Job arguments\n",
    "      attr_accessor :arguments\n",
    "      attr_writer :serialized_arguments\n",
    "\n",
    "      # Timestamp when the job should be performed\n",
    "      attr_accessor :scheduled_at\n",
    "\n",
    "      # Job Identifier\n",
    "      attr_accessor :job_id\n",
    "\n",
    "      # Queue in which the job will reside.\n",
    "      attr_writer :queue_name\n",
    "    end\n",
    "\n",
    "    # These methods will be included into any Active Job object, adding\n",
    "    # helpers for de/serialization and creation of job instances.\n",
    "    module ClassMethods\n",
    "      # Creates a new job instance from a hash created with +serialize+\n",
    "      def deserialize(job_data)\n",
    "        job = job_data['job_class'].constantize.new\n",
    "        job.deserialize(job_data)\n",
    "        job\n",
    "      end\n",
    "\n",
    "      # Creates a job preconfigured with the given options. You can call\n",
    "      # perform_later with the job arguments to enqueue the job with the\n",
    "      # preconfigured options\n",
    "      #\n",
    "      # ==== Options\n",
    "      # * <tt>:wait</tt> - Enqueues the job with the specified delay\n",
    "      # * <tt>:wait_until</tt> - Enqueues the job at the time specified\n",
    "      # * <tt>:queue</tt> - Enqueues the job on the specified queue\n",
    "      #\n",
    "      # ==== Examples\n",
    "      #\n",
    "      #    VideoJob.set(queue: :some_queue).perform_later(Video.last)\n",
    "      #    VideoJob.set(wait: 5.minutes).perform_later(Video.last)\n",
    "      #    VideoJob.set(wait_until: Time.now.tomorrow).perform_later(Video.last)\n",
    "      #    VideoJob.set(queue: :some_queue, wait: 5.minutes).perform_later(Video.last)\n",
    "      #    VideoJob.set(queue: :some_queue, wait_until: Time.now.tomorrow).perform_later(Video.last)\n",
    "      def set(options={})\n",
    "        ConfiguredJob.new(self, options)\n",
    "      end\n",
    "    end\n",
    "\n",
    "    # Creates a new job instance. Takes the arguments that will be\n",
    "    # passed to the perform method.\n",
    "    def initialize(*arguments)\n",
    "      @arguments  = arguments\n",
    "      @job_id     = SecureRandom.uuid\n",
    "      @queue_name = self.class.queue_name\n",
    "    end\n",
    "\n",
    "    # Returns a hash with the job data that can safely be passed to the\n",
    "    # queueing adapter.\n",
    "    def serialize\n",
    "      {\n",
    "        'job_class'  => self.class.name,\n",
    "        'job_id'     => job_id,\n",
    "        'queue_name' => queue_name,\n",
    "        'arguments'  => serialize_arguments(arguments)\n",
    "      }\n",
    "    end\n",
    "\n",
    "    # Attaches the stored job data to the current instance. Receives a hash\n",
    "    # returned from +serialize+\n",
    "    #\n",
    "    # ==== Examples\n",
    "    #\n",
    "    #    class DeliverWebhookJob < ActiveJob::Base\n",
    "    #      def serialize\n",
    "    #        super.merge('attempt_number' => (@attempt_number || 0) + 1)\n",
    "    #      end\n",
    "    #\n",
    "    #      def deserialize(job_data)\n",
    "    #        super\n",
    "    #        @attempt_number = job_data['attempt_number']\n",
    "    #      end\n",
    "    #\n",
    "    #      rescue_from(TimeoutError) do |exception|\n",
    "    #        raise exception if @attempt_number > 5\n",
    "    #        retry_job(wait: 10)\n",
    "    #      end\n",
    "    #    end\n",
    "    def deserialize(job_data)\n",
    "      self.job_id               = job_data['job_id']\n",
    "      self.queue_name           = job_data['queue_name']\n",
    "      self.serialized_arguments = job_data['arguments']\n",
    "    end\n",
    "\n",
    "    private\n",
    "      def deserialize_arguments_if_needed\n",
    "        if defined?(@serialized_arguments) && @serialized_arguments.present?\n",
    "          @arguments = deserialize_arguments(@serialized_arguments)\n",
    "          @serialized_arguments = nil\n",
    "        end\n",
    "      end\n",
    "\n",
    "      def serialize_arguments(serialized_args)\n",
    "        Arguments.serialize(serialized_args)\n",
    "      end\n",
    "\n",
    "      def deserialize_arguments(serialized_args)\n",
    "        Arguments.deserialize(serialized_args)\n",
    "      end\n",
    "  end\n",
    "end''']"
   ]
  },
  {
   "cell_type": "code",
   "execution_count": 28,
   "metadata": {
    "collapsed": false
   },
   "outputs": [
    {
     "data": {
      "text/plain": [
       "array(['ruby'], \n",
       "      dtype='<U11')"
      ]
     },
     "execution_count": 28,
     "metadata": {},
     "output_type": "execute_result"
    }
   ],
   "source": [
    "pipe.predict(message_ruby)"
   ]
  },
  {
   "cell_type": "code",
   "execution_count": null,
   "metadata": {
    "collapsed": true
   },
   "outputs": [],
   "source": []
  }
 ],
 "metadata": {
  "kernelspec": {
   "display_name": "Python 3",
   "language": "python",
   "name": "python3"
  },
  "language_info": {
   "codemirror_mode": {
    "name": "ipython",
    "version": 3
   },
   "file_extension": ".py",
   "mimetype": "text/x-python",
   "name": "python",
   "nbconvert_exporter": "python",
   "pygments_lexer": "ipython3",
   "version": "3.4.3"
  }
 },
 "nbformat": 4,
 "nbformat_minor": 0
}
