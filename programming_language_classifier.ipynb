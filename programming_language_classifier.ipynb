{
 "cells": [
  {
   "cell_type": "code",
   "execution_count": 1,
   "metadata": {
    "collapsed": false
   },
   "outputs": [],
   "source": [
    "import csv\n",
    "import re\n",
    "import pandas as pd\n",
    "import numpy as np\n",
    "import random\n",
    "import glob\n",
    "\n",
    "from collections import Counter, defaultdict, namedtuple\n",
    "from sklearn.pipeline import make_pipeline, make_union\n",
    "from sklearn.base import TransformerMixin\n",
    "from sklearn.tree import DecisionTreeClassifier\n",
    "from sklearn.feature_extraction.text import CountVectorizer\n",
    "from sklearn.feature_extraction import DictVectorizer\n",
    "from sklearn.naive_bayes import MultinomialNB\n",
    "from sklearn.metrics import classification_report, confusion_matrix"
   ]
  },
  {
   "cell_type": "markdown",
   "metadata": {},
   "source": [
    "* C (.gcc, .c)\n",
    "* C#\n",
    "* Common Lisp (.sbcl)\n",
    "* Clojure\n",
    "* Haskell\n",
    "* Java\n",
    "* JavaScript\n",
    "* OCaml\n",
    "* Perl\n",
    "* PHP (.hack, .php)\n",
    "* Python\n",
    "* Ruby (.jruby, .yarv)\n",
    "* Scala\n",
    "* Scheme (.racket)"
   ]
  },
  {
   "cell_type": "code",
   "execution_count": 2,
   "metadata": {
    "collapsed": true
   },
   "outputs": [],
   "source": [
    "def read_code(directory):\n",
    "    files = glob.glob('data/{}/*.*'.format(directory))\n",
    "    sample = []\n",
    "    for file in files:\n",
    "        with open(file) as f:\n",
    "            sample.append(f.read())\n",
    "    return sample"
   ]
  },
  {
   "cell_type": "code",
   "execution_count": 3,
   "metadata": {
    "collapsed": false
   },
   "outputs": [
    {
     "data": {
      "text/plain": [
       "['data/C/binarytrees.gcc',\n",
       " 'data/C/binarytrees.gcc-2.gcc',\n",
       " 'data/C/binarytrees.gcc-3.gcc',\n",
       " 'data/C/binarytrees.gcc-5.gcc',\n",
       " 'data/C/binarytrees.gcc-7.gcc']"
      ]
     },
     "execution_count": 3,
     "metadata": {},
     "output_type": "execute_result"
    }
   ],
   "source": [
    "glob.glob('data/C/*.*')[:5]"
   ]
  },
  {
   "cell_type": "code",
   "execution_count": 4,
   "metadata": {
    "collapsed": false
   },
   "outputs": [],
   "source": [
    "c_sample = read_code('C')\n",
    "csharp_sample = read_code('C#')\n",
    "common_lisp_sample = read_code('Common_Lisp')\n",
    "clojure_sample = read_code('Clojure')\n",
    "haskell_sample = read_code('Haskell')\n",
    "java_sample = read_code('Java')\n",
    "javascript_sample = read_code('JavaScript')\n",
    "ocaml_sample = read_code('OCaml')\n",
    "perl_sample = read_code('Perl')\n",
    "php_sample = read_code('PHP')\n",
    "python_sample = read_code('Python')\n",
    "ruby_sample = read_code('Ruby')\n",
    "scala_sample = read_code('Scala')\n",
    "scheme_sample = read_code('Scheme')\n"
   ]
  },
  {
   "cell_type": "code",
   "execution_count": null,
   "metadata": {
    "collapsed": true
   },
   "outputs": [],
   "source": []
  },
  {
   "cell_type": "code",
   "execution_count": 5,
   "metadata": {
    "collapsed": false
   },
   "outputs": [
    {
     "data": {
      "text/plain": [
       "CountVectorizer(analyzer='word', binary=False, decode_error='strict',\n",
       "        dtype=<class 'numpy.int64'>, encoding='utf-8', input='content',\n",
       "        lowercase=True, max_df=1.0, max_features=None, min_df=1,\n",
       "        ngram_range=(1, 1), preprocessor=None, stop_words=None,\n",
       "        strip_accents=None, token_pattern='(?u)\\\\b\\\\w\\\\w+\\\\b',\n",
       "        tokenizer=None, vocabulary=None)"
      ]
     },
     "execution_count": 5,
     "metadata": {},
     "output_type": "execute_result"
    }
   ],
   "source": [
    "classifier = MultinomialNB()\n",
    "vectorizer = CountVectorizer()\n",
    "vectorizer"
   ]
  },
  {
   "cell_type": "code",
   "execution_count": 6,
   "metadata": {
    "collapsed": false
   },
   "outputs": [
    {
     "data": {
      "text/plain": [
       "CountVectorizer(analyzer='word', binary=False, decode_error='strict',\n",
       "        dtype=<class 'numpy.int64'>, encoding='utf-8', input='content',\n",
       "        lowercase=True, max_df=1.0, max_features=None, min_df=1,\n",
       "        ngram_range=(1, 1), preprocessor=None, stop_words=None,\n",
       "        strip_accents=None, token_pattern='(?u)\\\\b\\\\w\\\\w+\\\\b',\n",
       "        tokenizer=None, vocabulary=None)"
      ]
     },
     "execution_count": 6,
     "metadata": {},
     "output_type": "execute_result"
    }
   ],
   "source": [
    "vectorizer.fit(c_sample + csharp_sample + common_lisp_sample + clojure_sample + haskell_sample + java_sample + javascript_sample + ocaml_sample + perl_sample + php_sample + python_sample + ruby_sample + scala_sample + scheme_sample)"
   ]
  },
  {
   "cell_type": "code",
   "execution_count": 7,
   "metadata": {
    "collapsed": true
   },
   "outputs": [],
   "source": [
    "X_train = vectorizer.transform(c_sample + csharp_sample + common_lisp_sample\\\n",
    "                               + clojure_sample + haskell_sample + java_sample\\\n",
    "                               + javascript_sample + ocaml_sample + perl_sample + php_sample\\\n",
    "                               + python_sample + ruby_sample + scala_sample\\\n",
    "                               + scheme_sample)"
   ]
  },
  {
   "cell_type": "code",
   "execution_count": null,
   "metadata": {
    "collapsed": true
   },
   "outputs": [],
   "source": []
  },
  {
   "cell_type": "code",
   "execution_count": 8,
   "metadata": {
    "collapsed": false
   },
   "outputs": [],
   "source": [
    "y_train = ['c'] * len(c_sample) + ['csharp'] * len(csharp_sample) + ['common_lisp'] \\\n",
    "        * len(common_lisp_sample) + ['clojure'] * len(clojure_sample) + ['haskell'] \\\n",
    "        * len(haskell_sample) + ['java'] * len(java_sample) + ['javascript'] * \\\n",
    "        len(javascript_sample) + ['ocaml'] * len(ocaml_sample) + \\\n",
    "        ['perl'] * len(perl_sample) + ['php'] * len(php_sample) + ['python']\\\n",
    "        * len(python_sample) + ['ruby'] * len(ruby_sample) + ['scala'] * len(scala_sample)\\\n",
    "        + ['scheme'] * len(scheme_sample)"
   ]
  },
  {
   "cell_type": "code",
   "execution_count": 9,
   "metadata": {
    "collapsed": false
   },
   "outputs": [],
   "source": [
    "# X_train"
   ]
  },
  {
   "cell_type": "code",
   "execution_count": 10,
   "metadata": {
    "collapsed": false
   },
   "outputs": [
    {
     "data": {
      "text/plain": [
       "587"
      ]
     },
     "execution_count": 10,
     "metadata": {},
     "output_type": "execute_result"
    }
   ],
   "source": [
    "len(y_train)"
   ]
  },
  {
   "cell_type": "code",
   "execution_count": 11,
   "metadata": {
    "collapsed": false,
    "scrolled": true
   },
   "outputs": [
    {
     "data": {
      "text/plain": [
       "MultinomialNB(alpha=1.0, class_prior=None, fit_prior=True)"
      ]
     },
     "execution_count": 11,
     "metadata": {},
     "output_type": "execute_result"
    }
   ],
   "source": [
    "classifier.fit(X_train, y_train)"
   ]
  },
  {
   "cell_type": "code",
   "execution_count": 12,
   "metadata": {
    "collapsed": false
   },
   "outputs": [
    {
     "data": {
      "text/plain": [
       "0.97444633730834751"
      ]
     },
     "execution_count": 12,
     "metadata": {},
     "output_type": "execute_result"
    }
   ],
   "source": [
    "classifier.score(X_train, y_train)"
   ]
  },
  {
   "cell_type": "code",
   "execution_count": 13,
   "metadata": {
    "collapsed": false
   },
   "outputs": [
    {
     "name": "stdout",
     "output_type": "stream",
     "text": [
      "             precision    recall  f1-score   support\n",
      "\n",
      "          c       1.00      0.98      0.99        59\n",
      "    clojure       1.00      1.00      1.00        38\n",
      "common_lisp       1.00      1.00      1.00        34\n",
      "     csharp       0.98      0.98      0.98        41\n",
      "    haskell       1.00      1.00      1.00        33\n",
      "       java       0.98      0.91      0.94        55\n",
      " javascript       0.80      0.80      0.80        30\n",
      "      ocaml       1.00      1.00      1.00        31\n",
      "       perl       1.00      1.00      1.00        34\n",
      "        php       0.95      0.96      0.95        55\n",
      "     python       0.97      1.00      0.99        35\n",
      "       ruby       0.97      1.00      0.99        71\n",
      "      scala       0.98      1.00      0.99        42\n",
      "     scheme       1.00      1.00      1.00        29\n",
      "\n",
      "avg / total       0.97      0.97      0.97       587\n",
      "\n"
     ]
    }
   ],
   "source": [
    "print(classification_report(classifier.predict(X_train), y_train))"
   ]
  },
  {
   "cell_type": "code",
   "execution_count": 14,
   "metadata": {
    "collapsed": false
   },
   "outputs": [
    {
     "data": {
      "text/plain": [
       "8450"
      ]
     },
     "execution_count": 14,
     "metadata": {},
     "output_type": "execute_result"
    }
   ],
   "source": [
    "len(vectorizer.get_feature_names())"
   ]
  },
  {
   "cell_type": "code",
   "execution_count": 15,
   "metadata": {
    "collapsed": false
   },
   "outputs": [
    {
     "data": {
      "text/plain": [
       "['mutable',\n",
       " 'mutablelist',\n",
       " 'mutant',\n",
       " 'mutates',\n",
       " 'mutation',\n",
       " 'mutex',\n",
       " 'mux',\n",
       " 'mv',\n",
       " 'mvar',\n",
       " 'mvbv',\n",
       " 'mvbvs',\n",
       " 'mvv',\n",
       " 'mvvs',\n",
       " 'mx',\n",
       " 'my',\n",
       " 'my_id',\n",
       " 'my_lock_acquire',\n",
       " 'my_param',\n",
       " 'mykola',\n",
       " 'myname']"
      ]
     },
     "execution_count": 15,
     "metadata": {},
     "output_type": "execute_result"
    }
   ],
   "source": [
    "vectorizer.get_feature_names()[5000:5020]"
   ]
  },
  {
   "cell_type": "markdown",
   "metadata": {},
   "source": [
    "### Testing"
   ]
  },
  {
   "cell_type": "markdown",
   "metadata": {},
   "source": [
    "Testing using manual input"
   ]
  },
  {
   "cell_type": "code",
   "execution_count": 16,
   "metadata": {
    "collapsed": true
   },
   "outputs": [],
   "source": [
    "message_python = ['''from pkgutil import iter_modules\n",
    "from subprocess import call\n",
    "\n",
    "dependencies = {\n",
    "    \"Crypto\": \"crypto\",\n",
    "    \"dpkt\": \"dpkt\",\n",
    "    \"IPy\": \"ipy\",\n",
    "    \"pcap\": \"pypcap\"\n",
    "}\n",
    "\n",
    "installed, missing_pkgs = [pkg[1] for pkg in iter_modules()], []\n",
    "\n",
    "for module, pkg in dependencies.items():\n",
    "    if module not in installed:\n",
    "        print(\"dshell requires {}\".format(module))\n",
    "        missing_pkgs.append(\"python-{}\".format(pkg))\n",
    "    else:\n",
    "        print(\"{} is installed\".format(module))\n",
    "\n",
    "if missing_pkgs:\n",
    "    cmd = [\"sudo\", \"apt-get\", \"install\"] + missing_pkgs\n",
    "\n",
    "    print(\" \".join(cmd))\n",
    "    call(cmd)\n",
    "\n",
    "call([\"make\", \"all\"])''']"
   ]
  },
  {
   "cell_type": "code",
   "execution_count": 17,
   "metadata": {
    "collapsed": false
   },
   "outputs": [
    {
     "data": {
      "text/plain": [
       "array(['python'], \n",
       "      dtype='<U11')"
      ]
     },
     "execution_count": 17,
     "metadata": {},
     "output_type": "execute_result"
    }
   ],
   "source": [
    "vectorizer.transform(message_python)\n",
    "classifier.predict(vectorizer.transform(message_python))"
   ]
  },
  {
   "cell_type": "code",
   "execution_count": 18,
   "metadata": {
    "collapsed": true
   },
   "outputs": [],
   "source": [
    "message_clojure = ['''defn cf-settings\n",
    "  \"Setup settings for campfire. Required information is your api-token, ssl connection\n",
    "  true or false, and your campfire sub-domain.\"\n",
    "  [token ssl sub-domain]\n",
    "  {:api-token token, :ssl ssl, :sub-domain sub-domain})\n",
    "\n",
    "(defn room\n",
    "  \"Sets up the room to send events too. Pass in the settings created with cf-settings\n",
    "  and the room name\"\n",
    "  [settings room-name]\n",
    "  (cf/room-by-name settings room-name))\n",
    "\n",
    "(defn campfire_message\n",
    "  \"Formats an event into a string\"\n",
    "  [e]\n",
    "  (str (join \" \" [\"Riemann alert on\" (str (:host e)) \"-\" (str (:service e)) \"is\" (upper-case (str (:state e))) \"- Description:\" (str (:description e))])))\n",
    "\n",
    "(defn campfire\n",
    "  \"Creates an adaptor to forward events to campfire. The campfire event will\n",
    "  contain the host, state, service, metric and description.\n",
    "  Tested with:\n",
    "  (streams\n",
    "    (by [:host, :service]\n",
    "      (let [camp (campfire \\\"token\\\", true, \\\"sub-domain\\\", \\\"room\\\")]\n",
    "        camp)))\"\n",
    "  [token ssl sub-domain room-name]\n",
    "  (fn [e]\n",
    "    (let [message_string (campfire_message e)\n",
    "          settings (cf-settings token ssl sub-domain)]\n",
    "      (cf/message (room settings room-name) message_string))))''']"
   ]
  },
  {
   "cell_type": "code",
   "execution_count": 19,
   "metadata": {
    "collapsed": false
   },
   "outputs": [
    {
     "data": {
      "text/plain": [
       "array(['clojure'], \n",
       "      dtype='<U11')"
      ]
     },
     "execution_count": 19,
     "metadata": {},
     "output_type": "execute_result"
    }
   ],
   "source": [
    "vectorizer.transform(message_clojure)\n",
    "classifier.predict(vectorizer.transform(message_clojure))"
   ]
  },
  {
   "cell_type": "code",
   "execution_count": 20,
   "metadata": {
    "collapsed": true
   },
   "outputs": [],
   "source": [
    "message_js = ['''function errorHandler(context) {\n",
    "  return function(error) {\n",
    "    trace('Failure in ' + context + ': ' + error.toString);\n",
    "  }\n",
    "}\n",
    "\n",
    "function successHandler(context) {\n",
    "  return function() {\n",
    "    trace('Success in ' + context);\n",
    "  }\n",
    "}\n",
    "\n",
    "function noAction() {\n",
    "}\n",
    "\n",
    "\n",
    "function VideoPipe(stream, handler) {\n",
    "  var servers = null;\n",
    "  var pc1 = new RTCPeerConnection(servers);\n",
    "  var pc2 = new RTCPeerConnection(servers);\n",
    "\n",
    "  pc1.addStream(stream);\n",
    "  pc1.onicecandidate = function(event) {\n",
    "    if (event.candidate) {\n",
    "      pc2.addIceCandidate(new RTCIceCandidate(event.candidate),\n",
    "                          noAction, errorHandler('AddIceCandidate'));\n",
    "    }\n",
    "  }\n",
    "  pc2.onicecandidate = function(event) {\n",
    "    if (event.candidate) {\n",
    "      pc1.addIceCandidate(new RTCIceCandidate(event.candidate),\n",
    "                          noAction, errorHandler('AddIceCandidate'));\n",
    "    }\n",
    "  }\n",
    "  pc2.onaddstream = function(e) {\n",
    "    handler(e.stream);\n",
    "  }\n",
    "  pc1.createOffer(function(desc) {\n",
    "    pc1.setLocalDescription(desc);\n",
    "    pc2.setRemoteDescription(desc);\n",
    "    pc2.createAnswer(function(desc2) {\n",
    "      pc2.setLocalDescription(desc2);\n",
    "      pc1.setRemoteDescription(desc2);\n",
    "    }, errorHandler('pc2.createAnswer'));\n",
    "  }, errorHandler('pc1.createOffer'));\n",
    "  this.pc1 = pc1;\n",
    "  this.pc2 = pc2;\n",
    "}\n",
    "\n",
    "VideoPipe.prototype.close = function() {\n",
    "  this.pc1.close();\n",
    "  this.pc2.close();\n",
    "}''']"
   ]
  },
  {
   "cell_type": "code",
   "execution_count": 21,
   "metadata": {
    "collapsed": false
   },
   "outputs": [
    {
     "data": {
      "text/plain": [
       "array(['javascript'], \n",
       "      dtype='<U11')"
      ]
     },
     "execution_count": 21,
     "metadata": {},
     "output_type": "execute_result"
    }
   ],
   "source": [
    "vectorizer.transform(message_js)\n",
    "classifier.predict(vectorizer.transform(message_js))"
   ]
  },
  {
   "cell_type": "code",
   "execution_count": 22,
   "metadata": {
    "collapsed": true
   },
   "outputs": [],
   "source": [
    "message_ruby = ['''module ActiveJob\n",
    "  module Core\n",
    "    extend ActiveSupport::Concern\n",
    "\n",
    "    included do\n",
    "      # Job arguments\n",
    "      attr_accessor :arguments\n",
    "      attr_writer :serialized_arguments\n",
    "\n",
    "      # Timestamp when the job should be performed\n",
    "      attr_accessor :scheduled_at\n",
    "\n",
    "      # Job Identifier\n",
    "      attr_accessor :job_id\n",
    "\n",
    "      # Queue in which the job will reside.\n",
    "      attr_writer :queue_name\n",
    "    end\n",
    "\n",
    "    # These methods will be included into any Active Job object, adding\n",
    "    # helpers for de/serialization and creation of job instances.\n",
    "    module ClassMethods\n",
    "      # Creates a new job instance from a hash created with +serialize+\n",
    "      def deserialize(job_data)\n",
    "        job = job_data['job_class'].constantize.new\n",
    "        job.deserialize(job_data)\n",
    "        job\n",
    "      end\n",
    "\n",
    "      # Creates a job preconfigured with the given options. You can call\n",
    "      # perform_later with the job arguments to enqueue the job with the\n",
    "      # preconfigured options\n",
    "      #\n",
    "      # ==== Options\n",
    "      # * <tt>:wait</tt> - Enqueues the job with the specified delay\n",
    "      # * <tt>:wait_until</tt> - Enqueues the job at the time specified\n",
    "      # * <tt>:queue</tt> - Enqueues the job on the specified queue\n",
    "      #\n",
    "      # ==== Examples\n",
    "      #\n",
    "      #    VideoJob.set(queue: :some_queue).perform_later(Video.last)\n",
    "      #    VideoJob.set(wait: 5.minutes).perform_later(Video.last)\n",
    "      #    VideoJob.set(wait_until: Time.now.tomorrow).perform_later(Video.last)\n",
    "      #    VideoJob.set(queue: :some_queue, wait: 5.minutes).perform_later(Video.last)\n",
    "      #    VideoJob.set(queue: :some_queue, wait_until: Time.now.tomorrow).perform_later(Video.last)\n",
    "      def set(options={})\n",
    "        ConfiguredJob.new(self, options)\n",
    "      end\n",
    "    end\n",
    "\n",
    "    # Creates a new job instance. Takes the arguments that will be\n",
    "    # passed to the perform method.\n",
    "    def initialize(*arguments)\n",
    "      @arguments  = arguments\n",
    "      @job_id     = SecureRandom.uuid\n",
    "      @queue_name = self.class.queue_name\n",
    "    end\n",
    "\n",
    "    # Returns a hash with the job data that can safely be passed to the\n",
    "    # queueing adapter.\n",
    "    def serialize\n",
    "      {\n",
    "        'job_class'  => self.class.name,\n",
    "        'job_id'     => job_id,\n",
    "        'queue_name' => queue_name,\n",
    "        'arguments'  => serialize_arguments(arguments)\n",
    "      }\n",
    "    end\n",
    "\n",
    "    # Attaches the stored job data to the current instance. Receives a hash\n",
    "    # returned from +serialize+\n",
    "    #\n",
    "    # ==== Examples\n",
    "    #\n",
    "    #    class DeliverWebhookJob < ActiveJob::Base\n",
    "    #      def serialize\n",
    "    #        super.merge('attempt_number' => (@attempt_number || 0) + 1)\n",
    "    #      end\n",
    "    #\n",
    "    #      def deserialize(job_data)\n",
    "    #        super\n",
    "    #        @attempt_number = job_data['attempt_number']\n",
    "    #      end\n",
    "    #\n",
    "    #      rescue_from(TimeoutError) do |exception|\n",
    "    #        raise exception if @attempt_number > 5\n",
    "    #        retry_job(wait: 10)\n",
    "    #      end\n",
    "    #    end\n",
    "    def deserialize(job_data)\n",
    "      self.job_id               = job_data['job_id']\n",
    "      self.queue_name           = job_data['queue_name']\n",
    "      self.serialized_arguments = job_data['arguments']\n",
    "    end\n",
    "\n",
    "    private\n",
    "      def deserialize_arguments_if_needed\n",
    "        if defined?(@serialized_arguments) && @serialized_arguments.present?\n",
    "          @arguments = deserialize_arguments(@serialized_arguments)\n",
    "          @serialized_arguments = nil\n",
    "        end\n",
    "      end\n",
    "\n",
    "      def serialize_arguments(serialized_args)\n",
    "        Arguments.serialize(serialized_args)\n",
    "      end\n",
    "\n",
    "      def deserialize_arguments(serialized_args)\n",
    "        Arguments.deserialize(serialized_args)\n",
    "      end\n",
    "  end\n",
    "end''']"
   ]
  },
  {
   "cell_type": "code",
   "execution_count": 23,
   "metadata": {
    "collapsed": false
   },
   "outputs": [
    {
     "data": {
      "text/plain": [
       "array(['ruby'], \n",
       "      dtype='<U11')"
      ]
     },
     "execution_count": 23,
     "metadata": {},
     "output_type": "execute_result"
    }
   ],
   "source": [
    "vectorizer.transform(message_ruby)\n",
    "classifier.predict(vectorizer.transform(message_ruby))"
   ]
  },
  {
   "cell_type": "markdown",
   "metadata": {},
   "source": [
    "Testing using the test data"
   ]
  },
  {
   "cell_type": "code",
   "execution_count": 24,
   "metadata": {
    "collapsed": false
   },
   "outputs": [],
   "source": [
    "with open('test.csv') as f:\n",
    "        y_open = f.read()"
   ]
  },
  {
   "cell_type": "code",
   "execution_count": 25,
   "metadata": {
    "collapsed": false
   },
   "outputs": [],
   "source": [
    "y_open = y_open.split('\\n')"
   ]
  },
  {
   "cell_type": "code",
   "execution_count": 26,
   "metadata": {
    "collapsed": false
   },
   "outputs": [],
   "source": [
    "y_test = []\n",
    "for x in y_open:\n",
    "    y_test.append(x.split(','))"
   ]
  },
  {
   "cell_type": "code",
   "execution_count": 27,
   "metadata": {
    "collapsed": false
   },
   "outputs": [],
   "source": [
    "y_test = list(pd.DataFrame(y_test).pop(1))[:-1]"
   ]
  },
  {
   "cell_type": "code",
   "execution_count": 28,
   "metadata": {
    "collapsed": false
   },
   "outputs": [],
   "source": [
    "def read_test():\n",
    "    X_data = []\n",
    "    for x in range(1, 33):\n",
    "         with open('test/{}'.format(x)) as f:\n",
    "            X_data.append((f.read(), x))\n",
    "    return X_data"
   ]
  },
  {
   "cell_type": "code",
   "execution_count": 29,
   "metadata": {
    "collapsed": false
   },
   "outputs": [],
   "source": [
    "X_data = [x[0] for x in read_test()]"
   ]
  },
  {
   "cell_type": "code",
   "execution_count": 30,
   "metadata": {
    "collapsed": false
   },
   "outputs": [
    {
     "data": {
      "text/plain": [
       "32"
      ]
     },
     "execution_count": 30,
     "metadata": {},
     "output_type": "execute_result"
    }
   ],
   "source": [
    "len(X_data)"
   ]
  },
  {
   "cell_type": "code",
   "execution_count": 31,
   "metadata": {
    "collapsed": false
   },
   "outputs": [],
   "source": [
    "X_test = vectorizer.transform(X_data)"
   ]
  },
  {
   "cell_type": "code",
   "execution_count": 32,
   "metadata": {
    "collapsed": false
   },
   "outputs": [
    {
     "data": {
      "text/plain": [
       "<32x8450 sparse matrix of type '<class 'numpy.int64'>'\n",
       "\twith 1701 stored elements in Compressed Sparse Row format>"
      ]
     },
     "execution_count": 32,
     "metadata": {},
     "output_type": "execute_result"
    }
   ],
   "source": [
    "X_test"
   ]
  },
  {
   "cell_type": "code",
   "execution_count": 33,
   "metadata": {
    "collapsed": false
   },
   "outputs": [],
   "source": [
    "# classifier.fit(X_test, y_test)"
   ]
  },
  {
   "cell_type": "code",
   "execution_count": 34,
   "metadata": {
    "collapsed": false
   },
   "outputs": [
    {
     "data": {
      "text/plain": [
       "0.65625"
      ]
     },
     "execution_count": 34,
     "metadata": {},
     "output_type": "execute_result"
    }
   ],
   "source": [
    "classifier.score(X_test, y_test)"
   ]
  },
  {
   "cell_type": "code",
   "execution_count": 35,
   "metadata": {
    "collapsed": false
   },
   "outputs": [
    {
     "name": "stdout",
     "output_type": "stream",
     "text": [
      "             precision    recall  f1-score   support\n",
      "\n",
      "          c       0.00      0.00      0.00         2\n",
      "    clojure       1.00      0.50      0.67         8\n",
      "    haskell       0.67      1.00      0.80         2\n",
      "       java       0.50      1.00      0.67         1\n",
      " javascript       0.50      0.67      0.57         3\n",
      "      ocaml       1.00      1.00      1.00         2\n",
      "        php       0.33      0.50      0.40         2\n",
      "     python       0.50      0.67      0.57         3\n",
      "       ruby       0.67      0.67      0.67         3\n",
      "      scala       1.00      1.00      1.00         2\n",
      "     scheme       1.00      0.75      0.86         4\n",
      "        tcl       0.00      0.00      0.00         0\n",
      "\n",
      "avg / total       0.73      0.66      0.66        32\n",
      "\n"
     ]
    },
    {
     "name": "stderr",
     "output_type": "stream",
     "text": [
      "/Users/TK/tiy/week5/.direnv/python-3.4.3/lib/python3.4/site-packages/sklearn/metrics/classification.py:958: UndefinedMetricWarning: Precision and F-score are ill-defined and being set to 0.0 in labels with no predicted samples.\n",
      "  'precision', 'predicted', average, warn_for)\n",
      "/Users/TK/tiy/week5/.direnv/python-3.4.3/lib/python3.4/site-packages/sklearn/metrics/classification.py:960: UndefinedMetricWarning: Recall and F-score are ill-defined and being set to 0.0 in labels with no true samples.\n",
      "  'recall', 'true', average, warn_for)\n"
     ]
    }
   ],
   "source": [
    "print(classification_report(classifier.predict(X_test), y_test))"
   ]
  },
  {
   "cell_type": "code",
   "execution_count": null,
   "metadata": {
    "collapsed": false
   },
   "outputs": [],
   "source": []
  },
  {
   "cell_type": "code",
   "execution_count": null,
   "metadata": {
    "collapsed": false
   },
   "outputs": [],
   "source": []
  },
  {
   "cell_type": "code",
   "execution_count": null,
   "metadata": {
    "collapsed": true
   },
   "outputs": [],
   "source": []
  },
  {
   "cell_type": "code",
   "execution_count": null,
   "metadata": {
    "collapsed": true
   },
   "outputs": [],
   "source": []
  },
  {
   "cell_type": "code",
   "execution_count": null,
   "metadata": {
    "collapsed": false
   },
   "outputs": [],
   "source": []
  }
 ],
 "metadata": {
  "kernelspec": {
   "display_name": "Python 3",
   "language": "python",
   "name": "python3"
  },
  "language_info": {
   "codemirror_mode": {
    "name": "ipython",
    "version": 3
   },
   "file_extension": ".py",
   "mimetype": "text/x-python",
   "name": "python",
   "nbconvert_exporter": "python",
   "pygments_lexer": "ipython3",
   "version": "3.4.3"
  }
 },
 "nbformat": 4,
 "nbformat_minor": 0
}
